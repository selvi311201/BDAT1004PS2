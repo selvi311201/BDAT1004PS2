{
 "cells": [
  {
   "cell_type": "markdown",
   "id": "0ca62106",
   "metadata": {},
   "source": [
    "# Question 1:"
   ]
  },
  {
   "cell_type": "code",
   "execution_count": 3,
   "id": "c6064ac9",
   "metadata": {},
   "outputs": [],
   "source": [
    "a = 0\n",
    "\n",
    "def b():\n",
    "    global a\n",
    "    a = c(a)\n",
    "\n",
    "def c(a):\n",
    "    return a + 2\n"
   ]
  },
  {
   "cell_type": "code",
   "execution_count": 4,
   "id": "6544368f",
   "metadata": {},
   "outputs": [
    {
     "name": "stdout",
     "output_type": "stream",
     "text": [
      "6\n"
     ]
    }
   ],
   "source": [
    "def c(a):\n",
    "  \"\"\"This function adds 2 to the input argument\"\"\"\n",
    "  return a + 2\n",
    "\n",
    "def b():\n",
    "  \"\"\"This function modifies the global variable a\"\"\"\n",
    "  global a\n",
    "  a = c(a)\n",
    "\n",
    "a = 0  # Initialize global variable a\n",
    "\n",
    "b()  # Call b() to modify a\n",
    "b()  # Call b() again to modify a\n",
    "b()  # Call b() again to modify a\n",
    "\n",
    "print(a)  # Print the final value of a\n"
   ]
  },
  {
   "cell_type": "markdown",
   "id": "1b5f5cd1",
   "metadata": {},
   "source": [
    "# explanation:\n",
    "1)def c(a): defines a function named c that takes one argument a. The function simply returns the value of a plus 2.\n",
    "2)def b(): defines a function named b that modifies the global variable a.\n",
    "3)a = 0 initializes the global variable a to 0.\n",
    "4)b() calls the function b(). Inside the function, the global a statement declares that we are modifying the global variable a. The statement a = c(a) calls the function c(a), which returns the value of a plus 2. Since a is currently 0, c(a) returns 2. The value 2 is then assigned back to a.\n",
    "5)b() calls the function b() again. This time, a is already 2, so c(a) returns 4. The value 4 is then assigned back to a.\n",
    "6)b() calls the function b() one last time. Now, a is 4, so c(a) returns 6. The value 6 is then assigned back to a.\n",
    "7)print(a) prints the final value of a, which is now 6."
   ]
  },
  {
   "cell_type": "markdown",
   "id": "e5f5ac8c",
   "metadata": {},
   "source": [
    "# QUESTION 2:"
   ]
  },
  {
   "cell_type": "code",
   "execution_count": 98,
   "id": "3448a5e8",
   "metadata": {},
   "outputs": [
    {
     "name": "stdout",
     "output_type": "stream",
     "text": [
      "File midterm.py not found.\n",
      "None\n",
      "File idterm.py not found.\n",
      "None\n"
     ]
    }
   ],
   "source": [
    " \n",
    "def fileLength(file_name):\n",
    "    try:\n",
    "        infile = open(file_name, 'r')\n",
    "        content = infile.read()\n",
    "        infile.close()\n",
    "        return len(content)\n",
    "    except FileNotFoundError:\n",
    "        print(f\"File {file_name} not found.\")\n",
    "        return None\n",
    "\n",
    "# Test cases\n",
    "print(fileLength('midterm.py'))  # Output: 358\n",
    "print(fileLength('idterm.py'))   # Output: File idterm.py not found.\n",
    "\n"
   ]
  },
  {
   "cell_type": "markdown",
   "id": "ec16fd18",
   "metadata": {},
   "source": [
    "# QUESTION 3:"
   ]
  },
  {
   "cell_type": "code",
   "execution_count": 25,
   "id": "af86328e",
   "metadata": {},
   "outputs": [],
   "source": [
    "class Marsupial:\n",
    "    def __init__(self):\n",
    "        self.pouch = []\n",
    "\n",
    "    def put_in_pouch(self, item):\n",
    "        self.pouch.append(item)\n",
    "\n",
    "    def pouch_contents(self):\n",
    "        return self.pouch\n",
    "\n",
    "\n",
    "class Kangaroo(Marsupial):\n",
    "    def __init__(self, x, y):\n",
    "        super().__init__()  # Call Marsupial's constructor\n",
    "        self.x = x\n",
    "        self.y = y\n",
    "\n",
    "    def jump(self, dx, dy):\n",
    "        self.x += dx\n",
    "        self.y += dy\n",
    "\n",
    "    def __str__(self):\n",
    "        return f\"I am a Kangaroo located at coordinates ({self.x},{self.y})\""
   ]
  },
  {
   "cell_type": "code",
   "execution_count": 26,
   "id": "8292ff89",
   "metadata": {},
   "outputs": [
    {
     "name": "stdout",
     "output_type": "stream",
     "text": [
      "I am a Kangaroo located at coordinates (0,0)\n",
      "['doll', 'firetruck', 'kitten']\n",
      "I am a Kangaroo located at coordinates (3,0)\n"
     ]
    }
   ],
   "source": [
    "k = Kangaroo(0, 0)\n",
    "print(k)  # I am a Kangaroo located at coordinates (0,0)\n",
    "k.put_in_pouch('doll')\n",
    "k.put_in_pouch('firetruck')\n",
    "k.put_in_pouch('kitten')\n",
    "print(k.pouch_contents())  # ['doll', 'firetruck', 'kitten']\n",
    "k.jump(1, 0)\n",
    "k.jump(1, 0)\n",
    "k.jump(1, 0)\n",
    "print(k)  # I am a Kangaroo located at coordinates (3,0)"
   ]
  },
  {
   "cell_type": "markdown",
   "id": "10fb3d6f",
   "metadata": {},
   "source": [
    "# QUESTION 4:"
   ]
  },
  {
   "cell_type": "code",
   "execution_count": 28,
   "id": "16d6f357",
   "metadata": {},
   "outputs": [
    {
     "name": "stdout",
     "output_type": "stream",
     "text": [
      "1\n",
      "10 5 16 8 4 2 1\n"
     ]
    }
   ],
   "source": [
    "\n",
    "def collatz(x):\n",
    "  \"\"\"\n",
    "  This function recursively prints the Collatz sequence starting at a positive integer x.\n",
    "  \"\"\"\n",
    "  if x == 1:\n",
    "    print(x)  # Base case: stop when reaching 1\n",
    "  else:\n",
    "    print(x, end=\" \")\n",
    "    if x % 2 == 0:  # Even number\n",
    "      collatz(x // 2)\n",
    "    else:             # Odd number\n",
    "      collatz(3 * x + 1)\n",
    "\n",
    "# Example usage\n",
    "collatz(1)  # Output: 1\n",
    "collatz(10) # Output: 10 5 16 8 4 2 1\n"
   ]
  },
  {
   "cell_type": "markdown",
   "id": "ee86721d",
   "metadata": {},
   "source": [
    "# QUESTION 5:"
   ]
  },
  {
   "cell_type": "code",
   "execution_count": 35,
   "id": "01e8d226",
   "metadata": {},
   "outputs": [],
   "source": [
    "def binary(n):\n",
    "    if n == 0:\n",
    "        print(\"0\", end=\"\")\n",
    "    elif n == 1:\n",
    "        print(\"1\", end=\"\")\n",
    "    else:\n",
    "        binary(n // 2)\n",
    "        print(n % 2, end=\"\")"
   ]
  },
  {
   "cell_type": "code",
   "execution_count": 37,
   "id": "1e8b3dcb",
   "metadata": {},
   "outputs": [
    {
     "name": "stdout",
     "output_type": "stream",
     "text": [
      "0\n",
      "1\n",
      "11\n",
      "1001\n"
     ]
    }
   ],
   "source": [
    "# Testing the function with provided examples\n",
    "binary(0)\n",
    "print()  # Output: 0\n",
    "binary(1)\n",
    "print()  # Output: 1\n",
    "binary(3)\n",
    "print()  # Output: 11\n",
    "binary(9)\n",
    "print()  # Output: 1001\n"
   ]
  },
  {
   "cell_type": "markdown",
   "id": "6fb28aa2",
   "metadata": {},
   "source": [
    "# QUESTION 6:"
   ]
  },
  {
   "cell_type": "code",
   "execution_count": 100,
   "id": "8696c1b4",
   "metadata": {},
   "outputs": [
    {
     "name": "stdout",
     "output_type": "stream",
     "text": [
      "W3C Mission\n",
      " Principles\n"
     ]
    }
   ],
   "source": [
    "from html.parser import HTMLParser\n",
    "\n",
    "class HeadingParser(HTMLParser):\n",
    "    def __init__(self):\n",
    "        super().__init__()\n",
    "        self.headings = []\n",
    "        self.current_heading = None\n",
    "        self.indentation = 0\n",
    "\n",
    "    def handle_starttag(self, tag, attrs):\n",
    "        if tag.startswith('h') and len(tag) == 2 and tag[1].isdigit():\n",
    "            self.current_heading = tag\n",
    "            self.indentation = int(tag[1]) - 1  # h1 starts with indentation 0\n",
    "\n",
    "    def handle_endtag(self, tag):\n",
    "        if tag == self.current_heading:\n",
    "            print(' ' * self.indentation + self.headings[-1])\n",
    "            self.current_heading = None\n",
    "\n",
    "    def handle_data(self, data):\n",
    "        if self.current_heading:\n",
    "            self.headings.append(data.strip())\n",
    "\n",
    "# Example usage\n",
    "if __name__ == \"__main__\":\n",
    "    html_content = \"\"\"\n",
    "    <!DOCTYPE html>\n",
    "    <html lang=\"en\">\n",
    "    <head>\n",
    "      <meta name=\"description\" content=\"Webpage description goes here\" />\n",
    "      <meta charset=\"utf-8\">\n",
    "      <title>Change_me</title>\n",
    "      <meta name=\"viewport\" content=\"width=device-width, initial-scale=1\">\n",
    "      <meta name=\"author\" content=\"\">\n",
    "      <link rel=\"stylesheet\" href=\"css/style.css\">\n",
    "    </head>\n",
    "    <body>\n",
    "      <h1>W3C Mission</h1>\n",
    "      <h2>Principles</h2>\n",
    "    </body>\n",
    "    </html>\n",
    "    \"\"\"\n",
    "\n",
    "    # Create HeadingParser instance and feed it with HTML content\n",
    "    hp = HeadingParser()\n",
    "    hp.feed(html_content)\n"
   ]
  },
  {
   "cell_type": "markdown",
   "id": "dbedf0e1",
   "metadata": {},
   "source": [
    "# QUESTION 7:"
   ]
  },
  {
   "cell_type": "code",
   "execution_count": 51,
   "id": "51563da6",
   "metadata": {
    "scrolled": true
   },
   "outputs": [
    {
     "name": "stdout",
     "output_type": "stream",
     "text": [
      "http://reed.cs.depaul.edu/lperkovic/csc242/test1.html\n",
      "http://reed.cs.depaul.edu/lperkovic/csc242/test2.html\n",
      "http://reed.cs.depaul.edu/lperkovic/csc242/test3.html\n",
      "http://reed.cs.depaul.edu/lperkovic/csc242/test4.html\n"
     ]
    }
   ],
   "source": [
    "import requests\n",
    "from bs4 import BeautifulSoup\n",
    "\n",
    "def webdir(url, depth, indent):\n",
    "    print(\" \" * indent + url)\n",
    "    if depth == 0:\n",
    "        return\n",
    "    try:\n",
    "        response = requests.get(url)\n",
    "        soup = BeautifulSoup(response.text, 'html.parser')\n",
    "        for link in soup.find_all('a', href=True):\n",
    "            href = link['href']\n",
    "            if href.startswith(\"http\"):\n",
    "                webdir(href, depth - 1, indent + 1)\n",
    "            elif href.startswith(\"/\"):\n",
    "                webdir(url + href, depth - 1, indent + 1)\n",
    "    except requests.exceptions.RequestException as e:\n",
    "        print(\" \" * indent + \"Error: \" + str(e))\n",
    "\n",
    "# Test the function\n",
    "webdir('http://reed.cs.depaul.edu/lperkovic/csc242/test1.html', 2, 0)\n",
    "webdir('http://reed.cs.depaul.edu/lperkovic/csc242/test2.html', 2, 0)\n",
    "webdir('http://reed.cs.depaul.edu/lperkovic/csc242/test3.html', 2, 0)\n",
    "webdir('http://reed.cs.depaul.edu/lperkovic/csc242/test4.html', 2, 0)"
   ]
  },
  {
   "cell_type": "markdown",
   "id": "5f54de57",
   "metadata": {},
   "source": [
    "# QUESTION 8:"
   ]
  },
  {
   "cell_type": "code",
   "execution_count": 153,
   "id": "1255c916",
   "metadata": {},
   "outputs": [
    {
     "name": "stdout",
     "output_type": "stream",
     "text": [
      "['Mumbai', 'India', 'Winter', 24.8, 5.9]\n",
      "['Mumbai', 'India', 'Spring', 28.4, 16.2]\n",
      "['Mumbai', 'India', 'Summer', 27.9, 1549.4]\n",
      "['Mumbai', 'India', 'Fall', 27.6, 346.0]\n",
      "['London', 'United Kingdom', 'Winter', 4.2, 207.7]\n",
      "['London', 'United Kingdom', 'Spring', 8.3, 169.6]\n",
      "['London', 'United Kingdom', 'Summer', 15.7, 157.0]\n",
      "['London', 'United Kingdom', 'Fall', 10.4, 218.5]\n",
      "['Cairo', 'Egypt', 'Winter', 13.6, 16.5]\n",
      "['Cairo', 'Egypt', 'Spring', 20.7, 6.5]\n",
      "['Cairo', 'Egypt', 'Summer', 27.7, 0.1]\n",
      "['Cairo', 'Egypt', 'Fall', 22.2, 4.5]\n"
     ]
    }
   ],
   "source": [
    "# Data representing the table (replace with actual values if necessary)\n",
    "weather_data = [\n",
    "    ['Mumbai', 'India', 'Winter', 24.8, 5.9],\n",
    "    ['Mumbai', 'India', 'Spring', 28.4, 16.2],\n",
    "    ['Mumbai', 'India', 'Summer', 27.9, 1549.4],\n",
    "    ['Mumbai', 'India', 'Fall', 27.6, 346.0],\n",
    "    ['London', 'United Kingdom', 'Winter', 4.2, 207.7],\n",
    "    ['London', 'United Kingdom', 'Spring', 8.3, 169.6],\n",
    "    ['London', 'United Kingdom', 'Summer', 15.7, 157.0],\n",
    "    ['London', 'United Kingdom', 'Fall', 10.4, 218.5],\n",
    "    ['Cairo', 'Egypt', 'Winter', 13.6, 16.5],\n",
    "    ['Cairo', 'Egypt', 'Spring', 20.7, 6.5],\n",
    "    ['Cairo', 'Egypt', 'Summer', 27.7, 0.1],\n",
    "    ['Cairo', 'Egypt', 'Fall', 22.2, 4.5],\n",
    "]\n",
    "\n",
    "# Print the data (optional)\n",
    "for row in weather_data:\n",
    "    print(row)\n"
   ]
  },
  {
   "cell_type": "code",
   "execution_count": null,
   "id": "82a364a3",
   "metadata": {},
   "outputs": [],
   "source": [
    "#a) All the temperature data.\n",
    "SELECT City, Country, Season, Temperature\n",
    "FROM Weather;\n"
   ]
  },
  {
   "cell_type": "code",
   "execution_count": null,
   "id": "7c6ef482",
   "metadata": {},
   "outputs": [],
   "source": [
    "#b) All the cities, but without repetition.\n",
    "SELECT DISTINCT City \n",
    "FROM weather_data;"
   ]
  },
  {
   "cell_type": "code",
   "execution_count": null,
   "id": "eb0abde0",
   "metadata": {},
   "outputs": [],
   "source": [
    "#c) All the records for India.\n",
    "SELECT * FROM weather_data WHERE Country = 'India';\n"
   ]
  },
  {
   "cell_type": "code",
   "execution_count": null,
   "id": "ad158731",
   "metadata": {},
   "outputs": [],
   "source": [
    "#d) All the Fall records\n",
    "SELECT * FROM weather_data WHERE Season = 'Fall';\n"
   ]
  },
  {
   "cell_type": "code",
   "execution_count": null,
   "id": "287a46b2",
   "metadata": {},
   "outputs": [],
   "source": [
    "#e) The city, country, and season for which the average rainfall is between 200 and 400 millimeters.\n",
    "SELECT City, Country, Season\n",
    "FROM weather_data\n",
    "GROUP BY City, Country, Season\n",
    "HAVING AVG(Rainfall) BETWEEN 200 AND 400;\n"
   ]
  },
  {
   "cell_type": "code",
   "execution_count": null,
   "id": "5924a559",
   "metadata": {},
   "outputs": [],
   "source": [
    "#f) The city and country for which the average Fall temperature is above 20 \n",
    "degrees, in increasing temperature order.\n",
    "SELECT City, Country\n",
    "FROM weather_data\n",
    "WHERE Season = 'Fall'\n",
    "GROUP BY City, Country\n",
    "HAVING AVG(Temperature) > 20\n",
    "ORDER BY AVG(Temperature);\n"
   ]
  },
  {
   "cell_type": "code",
   "execution_count": null,
   "id": "7e405d89",
   "metadata": {},
   "outputs": [],
   "source": [
    "#g) The total annual rainfall for Cairo.\n",
    "SELECT SUM(Rainfall) AS TotalRainfall\n",
    "FROM weather_data\n",
    "WHERE City = 'Cairo';\n"
   ]
  },
  {
   "cell_type": "code",
   "execution_count": null,
   "id": "2ee121ec",
   "metadata": {},
   "outputs": [],
   "source": [
    "#h) The total rainfall for each season.\n",
    "SELECT Season, SUM(Rainfall) AS TotalRainfall\n",
    "FROM weather_data\n",
    "GROUP BY Season;\n"
   ]
  },
  {
   "cell_type": "markdown",
   "id": "4c7a27b4",
   "metadata": {},
   "source": [
    "# QUESTION:9"
   ]
  },
  {
   "cell_type": "code",
   "execution_count": 56,
   "id": "1a81b018",
   "metadata": {},
   "outputs": [],
   "source": [
    "words = ['The', 'quick', 'brown', 'fox', 'jumps', 'over', 'the', 'lazy', 'dog']\n"
   ]
  },
  {
   "cell_type": "code",
   "execution_count": 62,
   "id": "0cda8e94",
   "metadata": {},
   "outputs": [
    {
     "name": "stdout",
     "output_type": "stream",
     "text": [
      "['THE', 'QUICK', 'BROWN', 'FOX', 'JUMPS', 'OVER', 'THE', 'LAZY', 'DOG']\n"
     ]
    }
   ],
   "source": [
    "#(A)Uppercase words list:\n",
    "uppercase_words = [word.upper() for word in words]\n",
    "print(uppercase_words)\n",
    "# Output: ['THE', 'QUICK', 'BROWN', 'FOX', 'JUMPS', 'OVER', 'THE', 'LAZY', 'DOG']\n",
    "\n"
   ]
  },
  {
   "cell_type": "code",
   "execution_count": 65,
   "id": "b2dc632d",
   "metadata": {},
   "outputs": [
    {
     "name": "stdout",
     "output_type": "stream",
     "text": [
      "['the', 'quick', 'brown', 'fox', 'jumps', 'over', 'the', 'lazy', 'dog']\n"
     ]
    }
   ],
   "source": [
    "#(b)Lowercase words list:\n",
    "lowercase_words = [word.lower() for word in words]\n",
    "print(lowercase_words)\n",
    "# Output: ['the', 'quick', 'brown', 'fox', 'jumps', 'over', 'the', 'lazy', 'dog']\n"
   ]
  },
  {
   "cell_type": "code",
   "execution_count": 67,
   "id": "b086b758",
   "metadata": {},
   "outputs": [
    {
     "name": "stdout",
     "output_type": "stream",
     "text": [
      "[3, 5, 5, 3, 5, 4, 3, 4, 3]\n"
     ]
    }
   ],
   "source": [
    "#(c)Length of words list:\n",
    "word_lengths = [len(word) for word in words]\n",
    "print(word_lengths)\n",
    "# Output: [3, 5, 5, 3, 5, 4, 3, 4, 3]\n"
   ]
  },
  {
   "cell_type": "code",
   "execution_count": 74,
   "id": "75492839",
   "metadata": {},
   "outputs": [
    {
     "name": "stdout",
     "output_type": "stream",
     "text": [
      "[['THE', 'the', 3], ['QUICK', 'quick', 5], ['BROWN', 'brown', 5], ['FOX', 'fox', 3], ['JUMPS', 'jumps', 5], ['OVER', 'over', 4], ['THE', 'the', 3], ['LAZY', 'lazy', 4], ['DOG', 'dog', 3]]\n"
     ]
    }
   ],
   "source": [
    "#(d)List of lists containing uppercase, lowercase, and length:\n",
    "list_of_lists = [[word.upper(), word.lower(), len(word)] for word in words]\n",
    "print(list_of_lists)\n",
    "# Output: [['THE', 'the', 3], ['QUICK', 'quick', 5], ['BROWN', 'brown', 5],\n",
    "#          ['FOX', 'fox', 3], ['JUMPS', 'jumps', 5], ['OVER', 'over', 4],\n",
    "#         ['THE', 'the', 3], ['LAZY', 'lazy', 4], ['DOG', 'dog', 3]]\n"
   ]
  },
  {
   "cell_type": "code",
   "execution_count": 76,
   "id": "862bbfa3",
   "metadata": {},
   "outputs": [
    {
     "name": "stdout",
     "output_type": "stream",
     "text": [
      "['quick', 'brown', 'jumps', 'over', 'lazy']\n"
     ]
    }
   ],
   "source": [
    "#(e)Words with 4 or more characters:\n",
    "long_words = [word for word in words if len(word) >= 4]\n",
    "print(long_words)\n",
    "# Output: ['quick', 'brown', 'jumps', 'over', 'lazy']\n"
   ]
  },
  {
   "cell_type": "code",
   "execution_count": null,
   "id": "06d25bb8",
   "metadata": {},
   "outputs": [],
   "source": []
  }
 ],
 "metadata": {
  "kernelspec": {
   "display_name": "Python 3 (ipykernel)",
   "language": "python",
   "name": "python3"
  },
  "language_info": {
   "codemirror_mode": {
    "name": "ipython",
    "version": 3
   },
   "file_extension": ".py",
   "mimetype": "text/x-python",
   "name": "python",
   "nbconvert_exporter": "python",
   "pygments_lexer": "ipython3",
   "version": "3.11.7"
  }
 },
 "nbformat": 4,
 "nbformat_minor": 5
}
